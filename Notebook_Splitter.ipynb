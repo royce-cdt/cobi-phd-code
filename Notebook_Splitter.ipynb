{
 "cells": [
  {
   "cell_type": "code",
   "execution_count": 2,
   "id": "5443272e-44cd-447a-8461-b76768124ab1",
   "metadata": {},
   "outputs": [
    {
     "name": "stderr",
     "output_type": "stream",
     "text": [
      "C:\\Users\\cobia\\anaconda3\\envs\\lumispy310\\lib\\site-packages\\nbformat\\__init__.py:132: MissingIDFieldWarning: Cell is missing an id field, this will become a hard error in future nbformat versions. You may want to use `normalize()` on your notebooks before validations (available since nbformat 5.1.4). Previous versions of nbformat are fixing this issue transparently, and will stop doing so in the future.\n",
      "  validate(nb)\n"
     ]
    },
    {
     "name": "stdout",
     "output_type": "stream",
     "text": [
      "Wrote AFM_CL_Data_Alignment_Mult_part1.ipynb\n",
      "Wrote AFM_CL_Data_Alignment_Mult_part2.ipynb\n",
      "Wrote AFM_CL_Data_Alignment_Mult_part3.ipynb\n"
     ]
    }
   ],
   "source": [
    "import nbformat\n",
    "\n",
    "def split_notebook(path, split_indices):\n",
    "    with open(path, encoding=\"utf-8\") as f:   # ✅ force UTF-8\n",
    "        nb = nbformat.read(f, as_version=4)\n",
    "    \n",
    "    for i, (start, end) in enumerate(zip(split_indices, split_indices[1:] + [len(nb.cells)])):\n",
    "        new_nb = nbformat.v4.new_notebook()\n",
    "        new_nb.cells = nb.cells[start:end]\n",
    "        out_path = f\"{path.rstrip('.ipynb')}_part{i+1}.ipynb\"\n",
    "        with open(out_path, \"w\", encoding=\"utf-8\") as f:   # ✅ write as UTF-8 too\n",
    "            nbformat.write(new_nb, f)\n",
    "        print(f\"Wrote {out_path}\")\n",
    "\n",
    "# Example: split at cell 0–20, 20–40, 40–end\n",
    "split_notebook(\"AFM_CL_Data_Alignment_Multi.ipynb\", [0, 20, 40])\n"
   ]
  },
  {
   "cell_type": "code",
   "execution_count": 1,
   "id": "621a068c",
   "metadata": {},
   "outputs": [
    {
     "name": "stdout",
     "output_type": "stream",
     "text": [
      "✅ Cleared outputs and saved to: AFM_CL_Data_Alignment_HF_Database.ipynb\n"
     ]
    }
   ],
   "source": [
    "import nbformat\n",
    "\n",
    "def clear_outputs(input_path, output_path=None):\n",
    "    \"\"\"\n",
    "    Remove outputs from a Jupyter notebook to reduce file size.\n",
    "\n",
    "    Parameters\n",
    "    ----------\n",
    "    input_path : str\n",
    "        Path to the input .ipynb file.\n",
    "    output_path : str, optional\n",
    "        Path to save the cleaned notebook. If None, overwrites the input file.\n",
    "    \"\"\"\n",
    "    with open(input_path, \"r\", encoding=\"utf-8\") as f:\n",
    "        nb = nbformat.read(f, as_version=nbformat.NO_CONVERT)\n",
    "\n",
    "    for cell in nb.cells:\n",
    "        if cell.cell_type == \"code\":\n",
    "            cell.outputs = []\n",
    "            cell.execution_count = None\n",
    "\n",
    "    save_path = output_path if output_path else input_path\n",
    "    with open(save_path, \"w\", encoding=\"utf-8\") as f:\n",
    "        nbformat.write(nb, f)\n",
    "\n",
    "    print(f\"✅ Cleared outputs and saved to: {save_path}\")\n",
    "\n",
    "\n",
    "# Example usage\n",
    "clear_outputs(\"AFM_CL_Data_Alignment_HF_Database.ipynb\")  # overwrites in place\n",
    "# clear_outputs(\"your_notebook.ipynb\", \"your_notebook_clean.ipynb\")  # saves to new file\n"
   ]
  }
 ],
 "metadata": {
  "kernelspec": {
   "display_name": "lumispy310",
   "language": "python",
   "name": "python3"
  },
  "language_info": {
   "codemirror_mode": {
    "name": "ipython",
    "version": 3
   },
   "file_extension": ".py",
   "mimetype": "text/x-python",
   "name": "python",
   "nbconvert_exporter": "python",
   "pygments_lexer": "ipython3",
   "version": "3.10.13"
  }
 },
 "nbformat": 4,
 "nbformat_minor": 5
}
