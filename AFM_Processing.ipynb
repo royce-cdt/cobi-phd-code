{
 "cells": [
  {
   "cell_type": "code",
   "execution_count": 2,
   "id": "ca559261-1a9c-4be3-9816-2260a97605b5",
   "metadata": {},
   "outputs": [],
   "source": [
    "import numpy as np\n",
    "import pandas as pd\n",
    "import plotly.graph_objects as go"
   ]
  },
  {
   "cell_type": "code",
   "execution_count": null,
   "id": "9b7fbc89-5ef3-4289-a7b4-563f02f7e905",
   "metadata": {},
   "outputs": [],
   "source": [
    "# Load the AFM data (replace 'afm_data.txt' with your actual file path)\n",
    "data = np.loadtxt(r\"C:\\Users\\cobia\\OneDrive - University of Cambridge\\AFM\\aix6242a.0_00001.txt\")\n",
    "\n",
    "# Check the shape of the data\n",
    "print(data.shape)"
   ]
  },
  {
   "cell_type": "code",
   "execution_count": null,
   "id": "75bf5268-55cf-4e7e-897c-bb8b524d544a",
   "metadata": {},
   "outputs": [],
   "source": [
    "# Assuming 'data' is a 2D numpy array from the AFM file\n",
    "z = data\n",
    "\n",
    "# Generate x and y coordinate arrays corresponding to the grid\n",
    "x = np.linspace(0, 3, 512)\n",
    "y = np.linspace(0, 3, 512)\n",
    "x, y = np.meshgrid(x, y)\n",
    "\n",
    "# Create the 3D surface plot\n",
    "fig = go.Figure(data=[go.Surface(z=z, x=x, y=y)])\n",
    "\n",
    "# Customize layout\n",
    "fig.update_layout(\n",
    "    title='3D Topography Plot of AFM Data',\n",
    "    scene=dict(\n",
    "        xaxis_title='X axis (µm)',\n",
    "        yaxis_title='Y axis (µm)',\n",
    "        zaxis_title='Height (nm)'\n",
    "    )\n",
    ")\n",
    "\n",
    "# Show the plot\n",
    "fig.show()\n"
   ]
  },
  {
   "cell_type": "code",
   "execution_count": 5,
   "id": "f2f42fae-af7b-4fb7-9267-56a253d960bf",
   "metadata": {},
   "outputs": [],
   "source": [
    "# Save 3-D Plotly plot to HTML\n",
    "\n",
    "fig.write_html('3d_plot_1.html')"
   ]
  }
 ],
 "metadata": {
  "kernelspec": {
   "display_name": "Python 3",
   "language": "python",
   "name": "python3"
  },
  "language_info": {
   "codemirror_mode": {
    "name": "ipython",
    "version": 3
   },
   "file_extension": ".py",
   "mimetype": "text/x-python",
   "name": "python",
   "nbconvert_exporter": "python",
   "pygments_lexer": "ipython3",
   "version": "3.12.3"
  }
 },
 "nbformat": 4,
 "nbformat_minor": 5
}
