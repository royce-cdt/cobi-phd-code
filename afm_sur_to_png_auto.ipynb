{
 "cells": [
  {
   "cell_type": "code",
   "execution_count": 1,
   "id": "fa448e00",
   "metadata": {},
   "outputs": [],
   "source": [
    "def level_data(data):\n",
    "    # 2D polynomial leveling (3rd degree)\n",
    "    x = np.linspace(-1, 1, data.shape[1])\n",
    "    y = np.linspace(-1, 1, data.shape[0])\n",
    "    X, Y = np.meshgrid(x, y)\n",
    "    X_flat = X.flatten()\n",
    "    Y_flat = Y.flatten()\n",
    "    Z_flat = data.flatten()\n",
    "\n",
    "    # Construct polynomial terms up to 3rd degree\n",
    "    A = np.column_stack([\n",
    "        np.ones_like(X_flat), X_flat, Y_flat, \n",
    "        X_flat**2, X_flat*Y_flat, Y_flat**2,\n",
    "        X_flat**3, (X_flat**2)*Y_flat, X_flat*(Y_flat**2), Y_flat**3\n",
    "    ])\n",
    "    coeffs, *_ = np.linalg.lstsq(A, Z_flat, rcond=None)\n",
    "    Z_fit = A @ coeffs\n",
    "    Z_fit_reshaped = Z_fit.reshape(data.shape)\n",
    "\n",
    "    return data - Z_fit_reshaped"
   ]
  },
  {
   "cell_type": "code",
   "execution_count": 2,
   "id": "9c284367",
   "metadata": {},
   "outputs": [],
   "source": [
    "import os\n",
    "import numpy as np\n",
    "import matplotlib.pyplot as plt\n",
    "from scipy.optimize import curve_fit\n",
    "from pySPM import Bruker\n",
    "from PIL import Image\n",
    "from tqdm import tqdm\n",
    "\n",
    "def gaussian(x, a, mu, sigma):\n",
    "    return a * np.exp(-(x - mu) ** 2 / (2 * sigma ** 2))\n",
    "\n",
    "def level_data(data):\n",
    "    # 2D polynomial leveling (2nd degree)\n",
    "    x = np.linspace(-1, 1, data.shape[1])\n",
    "    y = np.linspace(-1, 1, data.shape[0])\n",
    "    X, Y = np.meshgrid(x, y)\n",
    "    X_flat = X.flatten()\n",
    "    Y_flat = Y.flatten()\n",
    "    Z_flat = data.flatten()\n",
    "\n",
    "    # Construct polynomial terms up to 2nd degree\n",
    "    A = np.column_stack([np.ones_like(X_flat), X_flat, Y_flat, X_flat**2, X_flat*Y_flat, Y_flat**2])\n",
    "    coeffs, *_ = np.linalg.lstsq(A, Z_flat, rcond=None)\n",
    "    Z_fit = A @ coeffs\n",
    "    Z_fit_reshaped = Z_fit.reshape(data.shape)\n",
    "\n",
    "    return data - Z_fit_reshaped\n",
    "\n"
   ]
  },
  {
   "cell_type": "code",
   "execution_count": 5,
   "id": "4c18d0a4",
   "metadata": {},
   "outputs": [],
   "source": [
    "def align_rows(data):\n",
    "    # Align rows using median difference\n",
    "    for i in range(1, data.shape[0]):\n",
    "        offset = np.median(data[i, :] - data[i - 1, :])\n",
    "        data[i, :] -= offset\n",
    "    return data\n",
    "\n",
    "\n",
    "def align_rows_poly2(data):\n",
    "    \"\"\"\n",
    "    Align AFM rows using a 2nd degree polynomial fit.\n",
    "    \n",
    "    Parameters\n",
    "    ----------\n",
    "    data : np.ndarray\n",
    "        2D AFM height data array [rows, cols].\n",
    "    \n",
    "    Returns\n",
    "    -------\n",
    "    np.ndarray\n",
    "        Row-aligned AFM data.\n",
    "    \"\"\"\n",
    "    corrected = data.copy()\n",
    "    x = np.arange(data.shape[1])\n",
    "\n",
    "    for i in range(data.shape[0]):\n",
    "        # Fit quadratic polynomial to the row\n",
    "        coeffs = np.polyfit(x, corrected[i, :], deg=2)\n",
    "        trend = np.polyval(coeffs, x)\n",
    "        \n",
    "        # Subtract polynomial trend\n",
    "        corrected[i, :] -= trend\n",
    "\n",
    "    return corrected\n",
    "\n",
    "\n",
    "def adjust_contrast(data):\n",
    "    # Fit Gaussian to histogram\n",
    "    flattened = data.flatten()\n",
    "    hist, bin_edges = np.histogram(flattened, bins=256)\n",
    "    bin_centers = (bin_edges[:-1] + bin_edges[1:]) / 2\n",
    "\n",
    "    # Initial guess\n",
    "    p0 = [np.max(hist), np.mean(flattened), np.std(flattened)]\n",
    "    try:\n",
    "        popt, _ = curve_fit(gaussian, bin_centers, hist, p0=p0)\n",
    "        _, mu, sigma = popt\n",
    "    except RuntimeError:\n",
    "        mu, sigma = np.mean(flattened), np.std(flattened)\n",
    "\n",
    "    vmin = mu - 6 * sigma\n",
    "    vmax = mu + 6 * sigma\n",
    "    return np.clip((data - vmin) / (vmax - vmin), 0, 1)\n",
    "\n",
    "def save_as_16bit_png(data, filename):\n",
    "    data_16bit = (data * 65535).astype(np.uint16)\n",
    "    img = Image.fromarray(data_16bit, mode='I;16')\n",
    "    img.save(filename)\n",
    "\n",
    "def process_sur_file(filepath, output_folder):\n",
    "    print(f\"Processing file: {filepath}\")\n",
    "    spm = Bruker(filepath)\n",
    "    image = spm.get_channel(\"Height\")  # assume first channel is height\n",
    "    data = image.pixels.copy()\n",
    "\n",
    "    data = level_data(data)\n",
    "    # data = align_rows(data)\n",
    "    data = align_rows_poly2(data)\n",
    "    data_norm = adjust_contrast(data)\n",
    "\n",
    "    base_name = os.path.splitext(os.path.basename(filepath))[0]\n",
    "    output_path = os.path.join(output_folder, base_name + '.png')\n",
    "    save_as_16bit_png(data_norm, output_path)\n",
    "\n",
    "def process_folder(folder):\n",
    "    output_folder = os.path.join(folder, \"processed_pngs\")\n",
    "    os.makedirs(output_folder, exist_ok=True)\n",
    "\n",
    "    sur_files = [f for f in os.listdir(folder) if f.lower().endswith('.spm')]\n",
    "    for sur_file in tqdm(sur_files, desc=\"Processing .spm files\"):\n",
    "        filepath = os.path.join(folder, sur_file)\n",
    "        process_sur_file(filepath, output_folder)\n"
   ]
  },
  {
   "cell_type": "code",
   "execution_count": 6,
   "id": "27d3925a",
   "metadata": {},
   "outputs": [
    {
     "name": "stderr",
     "output_type": "stream",
     "text": [
      "Processing .spm files:   0%|          | 0/62 [00:00<?, ?it/s]C:\\Users\\cobia\\AppData\\Local\\Temp\\ipykernel_32556\\3075500017.py:46: OptimizeWarning: Covariance of the parameters could not be estimated\n",
      "  popt, _ = curve_fit(gaussian, bin_centers, hist, p0=p0)\n"
     ]
    },
    {
     "name": "stdout",
     "output_type": "stream",
     "text": [
      "Processing file: C:\\Users\\cobia\\OneDrive - University of Cambridge\\HF_Database\\AFM\\raw\\fat_end_outside_L_03.0_00000.spm\n"
     ]
    },
    {
     "name": "stderr",
     "output_type": "stream",
     "text": [
      "Processing .spm files:   3%|▎         | 2/62 [00:00<00:12,  4.71it/s]"
     ]
    },
    {
     "name": "stdout",
     "output_type": "stream",
     "text": [
      "Processing file: C:\\Users\\cobia\\OneDrive - University of Cambridge\\HF_Database\\AFM\\raw\\fat_end_outside_L_04.0_00000.spm\n"
     ]
    },
    {
     "name": "stderr",
     "output_type": "stream",
     "text": [
      "Processing .spm files:   5%|▍         | 3/62 [00:00<00:12,  4.74it/s]"
     ]
    },
    {
     "name": "stdout",
     "output_type": "stream",
     "text": [
      "Processing file: C:\\Users\\cobia\\OneDrive - University of Cambridge\\HF_Database\\AFM\\raw\\fat_end_outside_L_05.0_00000.spm\n",
      "Processing file: C:\\Users\\cobia\\OneDrive - University of Cambridge\\HF_Database\\AFM\\raw\\fat_end_outside_L_06.0_00000.spm\n"
     ]
    },
    {
     "name": "stderr",
     "output_type": "stream",
     "text": [
      "Processing .spm files:   8%|▊         | 5/62 [00:01<00:11,  4.92it/s]"
     ]
    },
    {
     "name": "stdout",
     "output_type": "stream",
     "text": [
      "Processing file: C:\\Users\\cobia\\OneDrive - University of Cambridge\\HF_Database\\AFM\\raw\\fat_end_outside_L_07.0_00000.spm\n"
     ]
    },
    {
     "name": "stderr",
     "output_type": "stream",
     "text": [
      "Processing .spm files:  10%|▉         | 6/62 [00:01<00:11,  4.90it/s]"
     ]
    },
    {
     "name": "stdout",
     "output_type": "stream",
     "text": [
      "Processing file: C:\\Users\\cobia\\OneDrive - University of Cambridge\\HF_Database\\AFM\\raw\\fat_end_outside_L_08.0_00000.spm\n"
     ]
    },
    {
     "name": "stderr",
     "output_type": "stream",
     "text": [
      "Processing .spm files:  11%|█▏        | 7/62 [00:01<00:11,  4.93it/s]"
     ]
    },
    {
     "name": "stdout",
     "output_type": "stream",
     "text": [
      "Processing file: C:\\Users\\cobia\\OneDrive - University of Cambridge\\HF_Database\\AFM\\raw\\fat_end_outside_L_09.0_00000.spm\n",
      "Processing file: C:\\Users\\cobia\\OneDrive - University of Cambridge\\HF_Database\\AFM\\raw\\fat_end_outside_L_10.0_00000.spm\n"
     ]
    },
    {
     "name": "stderr",
     "output_type": "stream",
     "text": [
      "Processing .spm files:  15%|█▍        | 9/62 [00:01<00:10,  4.97it/s]"
     ]
    },
    {
     "name": "stdout",
     "output_type": "stream",
     "text": [
      "Processing file: C:\\Users\\cobia\\OneDrive - University of Cambridge\\HF_Database\\AFM\\raw\\inside_corner_01.0_00000.spm\n",
      "Processing file: C:\\Users\\cobia\\OneDrive - University of Cambridge\\HF_Database\\AFM\\raw\\inside_corner_02.0_00000.spm\n"
     ]
    },
    {
     "name": "stderr",
     "output_type": "stream",
     "text": [
      "Processing .spm files:  18%|█▊        | 11/62 [00:02<00:10,  4.94it/s]"
     ]
    },
    {
     "name": "stdout",
     "output_type": "stream",
     "text": [
      "Processing file: C:\\Users\\cobia\\OneDrive - University of Cambridge\\HF_Database\\AFM\\raw\\inside_corner_02_90deg.0_00000.spm\n",
      "Processing file: C:\\Users\\cobia\\OneDrive - University of Cambridge\\HF_Database\\AFM\\raw\\inside_corner_03.0_00000.spm\n"
     ]
    },
    {
     "name": "stderr",
     "output_type": "stream",
     "text": [
      "Processing .spm files:  21%|██        | 13/62 [00:02<00:10,  4.89it/s]"
     ]
    },
    {
     "name": "stdout",
     "output_type": "stream",
     "text": [
      "Processing file: C:\\Users\\cobia\\OneDrive - University of Cambridge\\HF_Database\\AFM\\raw\\inside_corner_04.0_00000.spm\n"
     ]
    },
    {
     "name": "stderr",
     "output_type": "stream",
     "text": [
      "Processing .spm files:  23%|██▎       | 14/62 [00:02<00:09,  4.92it/s]"
     ]
    },
    {
     "name": "stdout",
     "output_type": "stream",
     "text": [
      "Processing file: C:\\Users\\cobia\\OneDrive - University of Cambridge\\HF_Database\\AFM\\raw\\inside_corner_05.0_00000.spm\n",
      "Processing file: C:\\Users\\cobia\\OneDrive - University of Cambridge\\HF_Database\\AFM\\raw\\mid_long_end_outside_01.0_00000.spm\n"
     ]
    },
    {
     "name": "stderr",
     "output_type": "stream",
     "text": [
      "Processing .spm files:  26%|██▌       | 16/62 [00:03<00:09,  4.94it/s]"
     ]
    },
    {
     "name": "stdout",
     "output_type": "stream",
     "text": [
      "Processing file: C:\\Users\\cobia\\OneDrive - University of Cambridge\\HF_Database\\AFM\\raw\\mid_long_end_outside_02.0_00000.spm\n"
     ]
    },
    {
     "name": "stderr",
     "output_type": "stream",
     "text": [
      "Processing .spm files:  27%|██▋       | 17/62 [00:03<00:08,  5.00it/s]"
     ]
    },
    {
     "name": "stdout",
     "output_type": "stream",
     "text": [
      "Processing file: C:\\Users\\cobia\\OneDrive - University of Cambridge\\HF_Database\\AFM\\raw\\mid_long_end_outside_03.0_00000.spm\n",
      "Processing file: C:\\Users\\cobia\\OneDrive - University of Cambridge\\HF_Database\\AFM\\raw\\mid_long_end_outside_04.0_00000.spm\n"
     ]
    },
    {
     "name": "stderr",
     "output_type": "stream",
     "text": [
      "Processing .spm files:  31%|███       | 19/62 [00:03<00:08,  4.95it/s]"
     ]
    },
    {
     "name": "stdout",
     "output_type": "stream",
     "text": [
      "Processing file: C:\\Users\\cobia\\OneDrive - University of Cambridge\\HF_Database\\AFM\\raw\\mid_long_end_outside_05.0_00000.spm\n",
      "Processing file: C:\\Users\\cobia\\OneDrive - University of Cambridge\\HF_Database\\AFM\\raw\\mid_long_end_outside_06.0_00000.spm\n"
     ]
    },
    {
     "name": "stderr",
     "output_type": "stream",
     "text": [
      "Processing .spm files:  34%|███▍      | 21/62 [00:04<00:08,  5.02it/s]"
     ]
    },
    {
     "name": "stdout",
     "output_type": "stream",
     "text": [
      "Processing file: C:\\Users\\cobia\\OneDrive - University of Cambridge\\HF_Database\\AFM\\raw\\mid_long_end_outside_07.0_00000.spm\n"
     ]
    },
    {
     "name": "stderr",
     "output_type": "stream",
     "text": [
      "Processing .spm files:  35%|███▌      | 22/62 [00:04<00:07,  5.08it/s]"
     ]
    },
    {
     "name": "stdout",
     "output_type": "stream",
     "text": [
      "Processing file: C:\\Users\\cobia\\OneDrive - University of Cambridge\\HF_Database\\AFM\\raw\\mid_long_end_outside_08.0_00000.spm\n"
     ]
    },
    {
     "name": "stderr",
     "output_type": "stream",
     "text": [
      "Processing .spm files:  37%|███▋      | 23/62 [00:04<00:07,  5.02it/s]"
     ]
    },
    {
     "name": "stdout",
     "output_type": "stream",
     "text": [
      "Processing file: C:\\Users\\cobia\\OneDrive - University of Cambridge\\HF_Database\\AFM\\raw\\mid_long_end_outside_09.0_00000.spm\n",
      "Processing file: C:\\Users\\cobia\\OneDrive - University of Cambridge\\HF_Database\\AFM\\raw\\mid_long_end_outside_10.0_00000.spm\n"
     ]
    },
    {
     "name": "stderr",
     "output_type": "stream",
     "text": [
      "Processing .spm files:  40%|████      | 25/62 [00:05<00:07,  4.90it/s]"
     ]
    },
    {
     "name": "stdout",
     "output_type": "stream",
     "text": [
      "Processing file: C:\\Users\\cobia\\OneDrive - University of Cambridge\\HF_Database\\AFM\\raw\\mid_long_end_outside_11.0_00000.spm\n",
      "Processing file: C:\\Users\\cobia\\OneDrive - University of Cambridge\\HF_Database\\AFM\\raw\\mid_long_end_outside_12.0_00000.spm\n"
     ]
    },
    {
     "name": "stderr",
     "output_type": "stream",
     "text": [
      "Processing .spm files:  44%|████▎     | 27/62 [00:05<00:06,  5.10it/s]"
     ]
    },
    {
     "name": "stdout",
     "output_type": "stream",
     "text": [
      "Processing file: C:\\Users\\cobia\\OneDrive - University of Cambridge\\HF_Database\\AFM\\raw\\mid_long_end_outside_13.0_00000.spm\n",
      "Processing file: C:\\Users\\cobia\\OneDrive - University of Cambridge\\HF_Database\\AFM\\raw\\mid_long_end_outside_14.0_00000.spm\n"
     ]
    },
    {
     "name": "stderr",
     "output_type": "stream",
     "text": [
      "Processing .spm files:  47%|████▋     | 29/62 [00:05<00:06,  5.10it/s]"
     ]
    },
    {
     "name": "stdout",
     "output_type": "stream",
     "text": [
      "Processing file: C:\\Users\\cobia\\OneDrive - University of Cambridge\\HF_Database\\AFM\\raw\\mid_long_end_outside_15.0_00000.spm\n",
      "Processing file: C:\\Users\\cobia\\OneDrive - University of Cambridge\\HF_Database\\AFM\\raw\\mid_long_end_outside_16.0_00000.spm\n"
     ]
    },
    {
     "name": "stderr",
     "output_type": "stream",
     "text": [
      "Processing .spm files:  50%|█████     | 31/62 [00:06<00:06,  5.01it/s]"
     ]
    },
    {
     "name": "stdout",
     "output_type": "stream",
     "text": [
      "Processing file: C:\\Users\\cobia\\OneDrive - University of Cambridge\\HF_Database\\AFM\\raw\\mid_long_end_outside_17.0_00000.spm\n",
      "Processing file: C:\\Users\\cobia\\OneDrive - University of Cambridge\\HF_Database\\AFM\\raw\\mid_long_end_outside_18.0_00000.spm\n"
     ]
    },
    {
     "name": "stderr",
     "output_type": "stream",
     "text": [
      "Processing .spm files:  52%|█████▏    | 32/62 [00:06<00:05,  5.06it/s]"
     ]
    },
    {
     "name": "stdout",
     "output_type": "stream",
     "text": [
      "Processing file: C:\\Users\\cobia\\OneDrive - University of Cambridge\\HF_Database\\AFM\\raw\\mid_long_end_outside_19.0_00000.spm\n"
     ]
    },
    {
     "name": "stderr",
     "output_type": "stream",
     "text": [
      "Processing .spm files:  53%|█████▎    | 33/62 [00:06<00:05,  4.87it/s]"
     ]
    },
    {
     "name": "stdout",
     "output_type": "stream",
     "text": [
      "Processing file: C:\\Users\\cobia\\OneDrive - University of Cambridge\\HF_Database\\AFM\\raw\\mid_long_end_outside_20.0_00000.spm\n"
     ]
    },
    {
     "name": "stderr",
     "output_type": "stream",
     "text": [
      "Processing .spm files:  55%|█████▍    | 34/62 [00:06<00:05,  4.81it/s]"
     ]
    },
    {
     "name": "stdout",
     "output_type": "stream",
     "text": [
      "Processing file: C:\\Users\\cobia\\OneDrive - University of Cambridge\\HF_Database\\AFM\\raw\\outside_corner_01.0_00002.spm\n"
     ]
    },
    {
     "name": "stderr",
     "output_type": "stream",
     "text": [
      "Processing .spm files:  58%|█████▊    | 36/62 [00:07<00:05,  4.95it/s]"
     ]
    },
    {
     "name": "stdout",
     "output_type": "stream",
     "text": [
      "Processing file: C:\\Users\\cobia\\OneDrive - University of Cambridge\\HF_Database\\AFM\\raw\\outside_corner_02.0_00000.spm\n"
     ]
    },
    {
     "name": "stderr",
     "output_type": "stream",
     "text": [
      "Processing .spm files:  60%|█████▉    | 37/62 [00:07<00:05,  4.96it/s]"
     ]
    },
    {
     "name": "stdout",
     "output_type": "stream",
     "text": [
      "Processing file: C:\\Users\\cobia\\OneDrive - University of Cambridge\\HF_Database\\AFM\\raw\\outside_corner_03.0_00000.spm\n",
      "Processing file: C:\\Users\\cobia\\OneDrive - University of Cambridge\\HF_Database\\AFM\\raw\\outside_corner_04.0_00000.spm\n"
     ]
    },
    {
     "name": "stderr",
     "output_type": "stream",
     "text": [
      "Processing .spm files:  63%|██████▎   | 39/62 [00:07<00:04,  5.14it/s]"
     ]
    },
    {
     "name": "stdout",
     "output_type": "stream",
     "text": [
      "Processing file: C:\\Users\\cobia\\OneDrive - University of Cambridge\\HF_Database\\AFM\\raw\\outside_corner_05.0_00000.spm\n",
      "Processing file: C:\\Users\\cobia\\OneDrive - University of Cambridge\\HF_Database\\AFM\\raw\\outside_corner_06.0_00000.spm\n"
     ]
    },
    {
     "name": "stderr",
     "output_type": "stream",
     "text": [
      "Processing .spm files:  66%|██████▌   | 41/62 [00:08<00:04,  5.19it/s]"
     ]
    },
    {
     "name": "stdout",
     "output_type": "stream",
     "text": [
      "Processing file: C:\\Users\\cobia\\OneDrive - University of Cambridge\\HF_Database\\AFM\\raw\\outside_corner_07.0_00000.spm\n",
      "Processing file: C:\\Users\\cobia\\OneDrive - University of Cambridge\\HF_Database\\AFM\\raw\\outside_corner_08.0_00000.spm\n"
     ]
    },
    {
     "name": "stderr",
     "output_type": "stream",
     "text": [
      "Processing .spm files:  69%|██████▉   | 43/62 [00:08<00:03,  5.30it/s]"
     ]
    },
    {
     "name": "stdout",
     "output_type": "stream",
     "text": [
      "Processing file: C:\\Users\\cobia\\OneDrive - University of Cambridge\\HF_Database\\AFM\\raw\\outside_corner_09.0_00000.spm\n",
      "Processing file: C:\\Users\\cobia\\OneDrive - University of Cambridge\\HF_Database\\AFM\\raw\\short_end_01.0_00000.spm\n"
     ]
    },
    {
     "name": "stderr",
     "output_type": "stream",
     "text": [
      "Processing .spm files:  73%|███████▎  | 45/62 [00:08<00:03,  5.56it/s]"
     ]
    },
    {
     "name": "stdout",
     "output_type": "stream",
     "text": [
      "Processing file: C:\\Users\\cobia\\OneDrive - University of Cambridge\\HF_Database\\AFM\\raw\\short_end_02.0_00000.spm\n",
      "Processing file: C:\\Users\\cobia\\OneDrive - University of Cambridge\\HF_Database\\AFM\\raw\\short_end_03.0_00000.spm\n"
     ]
    },
    {
     "name": "stderr",
     "output_type": "stream",
     "text": [
      "Processing .spm files:  76%|███████▌  | 47/62 [00:09<00:02,  5.48it/s]"
     ]
    },
    {
     "name": "stdout",
     "output_type": "stream",
     "text": [
      "Processing file: C:\\Users\\cobia\\OneDrive - University of Cambridge\\HF_Database\\AFM\\raw\\short_end_04.0_00000.spm\n",
      "Processing file: C:\\Users\\cobia\\OneDrive - University of Cambridge\\HF_Database\\AFM\\raw\\short_end_05.0_00000.spm\n"
     ]
    },
    {
     "name": "stderr",
     "output_type": "stream",
     "text": [
      "Processing .spm files:  79%|███████▉  | 49/62 [00:09<00:02,  5.51it/s]"
     ]
    },
    {
     "name": "stdout",
     "output_type": "stream",
     "text": [
      "Processing file: C:\\Users\\cobia\\OneDrive - University of Cambridge\\HF_Database\\AFM\\raw\\short_end_06.0_00000.spm\n",
      "Processing file: C:\\Users\\cobia\\OneDrive - University of Cambridge\\HF_Database\\AFM\\raw\\short_end_07.0_00000.spm\n"
     ]
    },
    {
     "name": "stderr",
     "output_type": "stream",
     "text": [
      "Processing .spm files:  82%|████████▏ | 51/62 [00:10<00:01,  5.67it/s]"
     ]
    },
    {
     "name": "stdout",
     "output_type": "stream",
     "text": [
      "Processing file: C:\\Users\\cobia\\OneDrive - University of Cambridge\\HF_Database\\AFM\\raw\\short_end_08.0_00000.spm\n",
      "Processing file: C:\\Users\\cobia\\OneDrive - University of Cambridge\\HF_Database\\AFM\\raw\\short_end_09.0_00000.spm\n"
     ]
    },
    {
     "name": "stderr",
     "output_type": "stream",
     "text": [
      "Processing .spm files:  85%|████████▌ | 53/62 [00:10<00:01,  5.60it/s]"
     ]
    },
    {
     "name": "stdout",
     "output_type": "stream",
     "text": [
      "Processing file: C:\\Users\\cobia\\OneDrive - University of Cambridge\\HF_Database\\AFM\\raw\\short_end_10.0_00000.spm\n",
      "Processing file: C:\\Users\\cobia\\OneDrive - University of Cambridge\\HF_Database\\AFM\\raw\\Si_L_longend_01.0_00000_game.spm\n"
     ]
    },
    {
     "name": "stderr",
     "output_type": "stream",
     "text": [
      "Processing .spm files:  89%|████████▊ | 55/62 [00:10<00:01,  5.57it/s]"
     ]
    },
    {
     "name": "stdout",
     "output_type": "stream",
     "text": [
      "Processing file: C:\\Users\\cobia\\OneDrive - University of Cambridge\\HF_Database\\AFM\\raw\\Si_L_longend_01.0_00001_2.spm\n"
     ]
    },
    {
     "name": "stderr",
     "output_type": "stream",
     "text": [
      "Processing .spm files:  90%|█████████ | 56/62 [00:10<00:01,  5.50it/s]"
     ]
    },
    {
     "name": "stdout",
     "output_type": "stream",
     "text": [
      "Processing file: C:\\Users\\cobia\\OneDrive - University of Cambridge\\HF_Database\\AFM\\raw\\Si_L_longend_01.0_00002_game.spm\n"
     ]
    },
    {
     "name": "stderr",
     "output_type": "stream",
     "text": [
      "Processing .spm files:  92%|█████████▏| 57/62 [00:11<00:00,  5.54it/s]"
     ]
    },
    {
     "name": "stdout",
     "output_type": "stream",
     "text": [
      "Processing file: C:\\Users\\cobia\\OneDrive - University of Cambridge\\HF_Database\\AFM\\raw\\Si_L_longend_05.0_00000_game.spm\n",
      "Processing file: C:\\Users\\cobia\\OneDrive - University of Cambridge\\HF_Database\\AFM\\raw\\Si_L_longend_06.0_00000_game.spm\n"
     ]
    },
    {
     "name": "stderr",
     "output_type": "stream",
     "text": [
      "Processing .spm files:  95%|█████████▌| 59/62 [00:11<00:00,  5.41it/s]"
     ]
    },
    {
     "name": "stdout",
     "output_type": "stream",
     "text": [
      "Processing file: C:\\Users\\cobia\\OneDrive - University of Cambridge\\HF_Database\\AFM\\raw\\Si_L_longend_07.0_00000_game.spm\n",
      "Processing file: C:\\Users\\cobia\\OneDrive - University of Cambridge\\HF_Database\\AFM\\raw\\Si_L_longend_09.0_00000_game.spm\n"
     ]
    },
    {
     "name": "stderr",
     "output_type": "stream",
     "text": [
      "Processing .spm files:  98%|█████████▊| 61/62 [00:11<00:00,  5.58it/s]"
     ]
    },
    {
     "name": "stdout",
     "output_type": "stream",
     "text": [
      "Processing file: C:\\Users\\cobia\\OneDrive - University of Cambridge\\HF_Database\\AFM\\raw\\si_old_zoomed_02.0_00000_grey.spm\n",
      "Processing file: C:\\Users\\cobia\\OneDrive - University of Cambridge\\HF_Database\\AFM\\raw\\si_old_zoomed_03.0_00000_grey.spm\n"
     ]
    },
    {
     "name": "stderr",
     "output_type": "stream",
     "text": [
      "Processing .spm files: 100%|██████████| 62/62 [00:12<00:00,  5.15it/s]\n"
     ]
    }
   ],
   "source": [
    "\n",
    "if __name__ == \"__main__\":\n",
    "    # import argparse\n",
    "\n",
    "    # parser = argparse.ArgumentParser(description=\"Process Bruker AFM .sur files with pySPM.\")\n",
    "    # parser.add_argument(\"folder\", help=\"Folder containing .sur files\")\n",
    "    # args = parser.parse_args()\n",
    "\n",
    "    # process_folder(args.folder)\n",
    "    folder = r\"C:\\Users\\cobia\\OneDrive - University of Cambridge\\HF_Database\\AFM\\raw\"\n",
    "    process_folder(folder)\n"
   ]
  },
  {
   "cell_type": "code",
   "execution_count": null,
   "id": "ea1629a9",
   "metadata": {},
   "outputs": [],
   "source": []
  }
 ],
 "metadata": {
  "kernelspec": {
   "display_name": "pyspm",
   "language": "python",
   "name": "python3"
  },
  "language_info": {
   "codemirror_mode": {
    "name": "ipython",
    "version": 3
   },
   "file_extension": ".py",
   "mimetype": "text/x-python",
   "name": "python",
   "nbconvert_exporter": "python",
   "pygments_lexer": "ipython3",
   "version": "3.12.7"
  }
 },
 "nbformat": 4,
 "nbformat_minor": 5
}
