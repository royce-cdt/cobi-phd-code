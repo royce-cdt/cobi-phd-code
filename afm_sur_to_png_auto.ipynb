{
 "cells": [
  {
   "cell_type": "code",
   "execution_count": 7,
   "id": "fa448e00",
   "metadata": {},
   "outputs": [],
   "source": [
    "def level_data(data):\n",
    "    # 2D polynomial leveling (3rd degree)\n",
    "    x = np.linspace(-1, 1, data.shape[1])\n",
    "    y = np.linspace(-1, 1, data.shape[0])\n",
    "    X, Y = np.meshgrid(x, y)\n",
    "    X_flat = X.flatten()\n",
    "    Y_flat = Y.flatten()\n",
    "    Z_flat = data.flatten()\n",
    "\n",
    "    # Construct polynomial terms up to 3rd degree\n",
    "    A = np.column_stack([\n",
    "        np.ones_like(X_flat), X_flat, Y_flat, \n",
    "        X_flat**2, X_flat*Y_flat, Y_flat**2,\n",
    "        X_flat**3, (X_flat**2)*Y_flat, X_flat*(Y_flat**2), Y_flat**3\n",
    "    ])\n",
    "    coeffs, *_ = np.linalg.lstsq(A, Z_flat, rcond=None)\n",
    "    Z_fit = A @ coeffs\n",
    "    Z_fit_reshaped = Z_fit.reshape(data.shape)\n",
    "\n",
    "    return data - Z_fit_reshaped"
   ]
  },
  {
   "cell_type": "code",
   "execution_count": 12,
   "id": "9c284367",
   "metadata": {},
   "outputs": [],
   "source": [
    "import os\n",
    "import numpy as np\n",
    "import matplotlib.pyplot as plt\n",
    "from scipy.optimize import curve_fit\n",
    "from pySPM import Bruker\n",
    "from PIL import Image\n",
    "from tqdm import tqdm\n",
    "\n",
    "def gaussian(x, a, mu, sigma):\n",
    "    return a * np.exp(-(x - mu) ** 2 / (2 * sigma ** 2))\n",
    "\n",
    "def level_data(data):\n",
    "    # 2D polynomial leveling (2nd degree)\n",
    "    x = np.linspace(-1, 1, data.shape[1])\n",
    "    y = np.linspace(-1, 1, data.shape[0])\n",
    "    X, Y = np.meshgrid(x, y)\n",
    "    X_flat = X.flatten()\n",
    "    Y_flat = Y.flatten()\n",
    "    Z_flat = data.flatten()\n",
    "\n",
    "    # Construct polynomial terms up to 2nd degree\n",
    "    A = np.column_stack([np.ones_like(X_flat), X_flat, Y_flat, X_flat**2, X_flat*Y_flat, Y_flat**2])\n",
    "    coeffs, *_ = np.linalg.lstsq(A, Z_flat, rcond=None)\n",
    "    Z_fit = A @ coeffs\n",
    "    Z_fit_reshaped = Z_fit.reshape(data.shape)\n",
    "\n",
    "    return data - Z_fit_reshaped\n",
    "\n"
   ]
  },
  {
   "cell_type": "code",
   "execution_count": 13,
   "id": "4c18d0a4",
   "metadata": {},
   "outputs": [],
   "source": [
    "def align_rows(data):\n",
    "    # Align rows using median difference\n",
    "    for i in range(1, data.shape[0]):\n",
    "        offset = np.median(data[i, :] - data[i - 1, :])\n",
    "        data[i, :] -= offset\n",
    "    return data\n",
    "\n",
    "def adjust_contrast(data):\n",
    "    # Fit Gaussian to histogram\n",
    "    flattened = data.flatten()\n",
    "    hist, bin_edges = np.histogram(flattened, bins=256)\n",
    "    bin_centers = (bin_edges[:-1] + bin_edges[1:]) / 2\n",
    "\n",
    "    # Initial guess\n",
    "    p0 = [np.max(hist), np.mean(flattened), np.std(flattened)]\n",
    "    try:\n",
    "        popt, _ = curve_fit(gaussian, bin_centers, hist, p0=p0)\n",
    "        _, mu, sigma = popt\n",
    "    except RuntimeError:\n",
    "        mu, sigma = np.mean(flattened), np.std(flattened)\n",
    "\n",
    "    vmin = mu - 6 * sigma\n",
    "    vmax = mu + 6 * sigma\n",
    "    return np.clip((data - vmin) / (vmax - vmin), 0, 1)\n",
    "\n",
    "def save_as_16bit_png(data, filename):\n",
    "    data_16bit = (data * 65535).astype(np.uint16)\n",
    "    img = Image.fromarray(data_16bit, mode='I;16')\n",
    "    img.save(filename)\n",
    "\n",
    "def process_sur_file(filepath, output_folder):\n",
    "    print(f\"Processing file: {filepath}\")\n",
    "    spm = Bruker(filepath)\n",
    "    image = spm.get_channel(\"Height\")  # assume first channel is height\n",
    "    data = image.pixels.copy()\n",
    "\n",
    "    data = level_data(data)\n",
    "    data = align_rows(data)\n",
    "    data_norm = adjust_contrast(data)\n",
    "\n",
    "    base_name = os.path.splitext(os.path.basename(filepath))[0]\n",
    "    output_path = os.path.join(output_folder, base_name + '.png')\n",
    "    save_as_16bit_png(data_norm, output_path)\n",
    "\n",
    "def process_folder(folder):\n",
    "    output_folder = os.path.join(folder, \"processed_pngs\")\n",
    "    os.makedirs(output_folder, exist_ok=True)\n",
    "\n",
    "    sur_files = [f for f in os.listdir(folder) if f.lower().endswith('.spm')]\n",
    "    for sur_file in tqdm(sur_files, desc=\"Processing .spm files\"):\n",
    "        filepath = os.path.join(folder, sur_file)\n",
    "        process_sur_file(filepath, output_folder)\n"
   ]
  },
  {
   "cell_type": "code",
   "execution_count": 14,
   "id": "27d3925a",
   "metadata": {},
   "outputs": [
    {
     "name": "stderr",
     "output_type": "stream",
     "text": [
      "Processing .spm files:   9%|▉         | 1/11 [00:00<00:01,  8.91it/s]"
     ]
    },
    {
     "name": "stdout",
     "output_type": "stream",
     "text": [
      "Processing file: C:\\Users\\cobia\\OneDrive - University of Cambridge\\AFM\\09_07_2025\\short_end_01.0_00000.spm\n",
      "Processing file: C:\\Users\\cobia\\OneDrive - University of Cambridge\\AFM\\09_07_2025\\short_end_02.0_00000.spm\n"
     ]
    },
    {
     "name": "stderr",
     "output_type": "stream",
     "text": [
      "Processing .spm files:  27%|██▋       | 3/11 [00:00<00:01,  7.86it/s]"
     ]
    },
    {
     "name": "stdout",
     "output_type": "stream",
     "text": [
      "Processing file: C:\\Users\\cobia\\OneDrive - University of Cambridge\\AFM\\09_07_2025\\short_end_03.0_00000.spm\n",
      "Processing file: C:\\Users\\cobia\\OneDrive - University of Cambridge\\AFM\\09_07_2025\\short_end_04.0_00000.spm\n"
     ]
    },
    {
     "name": "stderr",
     "output_type": "stream",
     "text": [
      "Processing .spm files:  45%|████▌     | 5/11 [00:00<00:00,  8.95it/s]"
     ]
    },
    {
     "name": "stdout",
     "output_type": "stream",
     "text": [
      "Processing file: C:\\Users\\cobia\\OneDrive - University of Cambridge\\AFM\\09_07_2025\\short_end_05.0_00000.spm\n",
      "Processing file: C:\\Users\\cobia\\OneDrive - University of Cambridge\\AFM\\09_07_2025\\short_end_06.0_00000.spm\n"
     ]
    },
    {
     "name": "stderr",
     "output_type": "stream",
     "text": [
      "Processing .spm files:  73%|███████▎  | 8/11 [00:00<00:00,  9.70it/s]"
     ]
    },
    {
     "name": "stdout",
     "output_type": "stream",
     "text": [
      "Processing file: C:\\Users\\cobia\\OneDrive - University of Cambridge\\AFM\\09_07_2025\\short_end_07.0_00000.spm\n",
      "Processing file: C:\\Users\\cobia\\OneDrive - University of Cambridge\\AFM\\09_07_2025\\short_end_08.0_00000.spm\n"
     ]
    },
    {
     "name": "stderr",
     "output_type": "stream",
     "text": [
      "Processing .spm files:  91%|█████████ | 10/11 [00:01<00:00, 10.27it/s]"
     ]
    },
    {
     "name": "stdout",
     "output_type": "stream",
     "text": [
      "Processing file: C:\\Users\\cobia\\OneDrive - University of Cambridge\\AFM\\09_07_2025\\short_end_09.0_00000.spm\n",
      "Processing file: C:\\Users\\cobia\\OneDrive - University of Cambridge\\AFM\\09_07_2025\\short_end_10.0_00000.spm\n",
      "Processing file: C:\\Users\\cobia\\OneDrive - University of Cambridge\\AFM\\09_07_2025\\short_end_11.0_00000.spm\n"
     ]
    },
    {
     "name": "stderr",
     "output_type": "stream",
     "text": [
      "Processing .spm files: 100%|██████████| 11/11 [00:01<00:00,  9.47it/s]\n"
     ]
    }
   ],
   "source": [
    "\n",
    "if __name__ == \"__main__\":\n",
    "    # import argparse\n",
    "\n",
    "    # parser = argparse.ArgumentParser(description=\"Process Bruker AFM .sur files with pySPM.\")\n",
    "    # parser.add_argument(\"folder\", help=\"Folder containing .sur files\")\n",
    "    # args = parser.parse_args()\n",
    "\n",
    "    # process_folder(args.folder)\n",
    "    folder = r\"C:\\Users\\cobia\\OneDrive - University of Cambridge\\AFM\\09_07_2025\"\n",
    "    process_folder(folder)\n"
   ]
  },
  {
   "cell_type": "code",
   "execution_count": null,
   "id": "ea1629a9",
   "metadata": {},
   "outputs": [],
   "source": []
  }
 ],
 "metadata": {
  "kernelspec": {
   "display_name": "pyspm",
   "language": "python",
   "name": "python3"
  },
  "language_info": {
   "codemirror_mode": {
    "name": "ipython",
    "version": 3
   },
   "file_extension": ".py",
   "mimetype": "text/x-python",
   "name": "python",
   "nbconvert_exporter": "python",
   "pygments_lexer": "ipython3",
   "version": "3.12.7"
  }
 },
 "nbformat": 4,
 "nbformat_minor": 5
}
